{
 "cells": [
  {
   "cell_type": "code",
   "execution_count": 3,
   "metadata": {},
   "outputs": [
    {
     "name": "stdout",
     "output_type": "stream",
     "text": [
      "Please enter one number1234\n",
      "\n",
      " Reverse of the given number is = 4321\n"
     ]
    }
   ],
   "source": [
    "# My first program\n",
    "# reverse of the number\n",
    "Number = int(input(\"Please enter one number\"))\n",
    "Reverse = 0\n",
    "while(Number > 0):\n",
    "    Reminder = Number%10\n",
    "    Reverse  = (Reverse*10)+Reminder\n",
    "    Number   = Number//10\n",
    "print(\"\\n Reverse of the given number is = %d\" %Reverse)\n"
   ]
  },
  {
   "cell_type": "code",
   "execution_count": 37,
   "metadata": {},
   "outputs": [
    {
     "name": "stdout",
     "output_type": "stream",
     "text": [
      "2002,2009,2016,2023,2037,2044,2051,2058,2072,2079,2086,2093,2107,2114,2121,2128,2142,2149,2156,2163,2177,2184,2191,2198,2212,2219,2226,2233,2247,2254,2261,2268,2282,2289,2296,2303,2317,2324,2331,2338,2352,2359,2366,2373,2387,2394,2401,2408,2422,2429,2436,2443,2457,2464,2471,2478,2492,2499,2506,2513,2527,2534,2541,2548,2562,2569,2576,2583,2597,2604,2611,2618,2632,2639,2646,2653,2667,2674,2681,2688,2702,2709,2716,2723,2737,2744,2751,2758,2772,2779,2786,2793,2807,2814,2821,2828,2842,2849,2856,2863,2877,2884,2891,2898,2912,2919,2926,2933,2947,2954,2961,2968,2982,2989,2996,3003,3017,3024,3031,3038,3052,3059,3066,3073,3087,3094,3101,3108,3122,3129,3136,3143,3157,3164,3171,3178,3192,3199\n"
     ]
    }
   ],
   "source": [
    "##Write a program which will find all such numbers which are divisible by 7 but are not a multiple of 5, between 2000 and 3200 (both included). \n",
    "##The numbers obtained should be printed in a comma-separated sequence on a single line.\n",
    "\n",
    "Final_list = []\n",
    "\n",
    "for i in range(2000,3201):\n",
    "    if (i%7==0) and (i%5!=0):\n",
    "        Final_list.append(str(i))\n",
    "print(\",\".join(Final_list))"
   ]
  },
  {
   "cell_type": "code",
   "execution_count": 12,
   "metadata": {},
   "outputs": [
    {
     "name": "stdout",
     "output_type": "stream",
     "text": [
      "Please enter user's first nameSri\n",
      "Please enter user's last nameSravani\n",
      "Hello  Sravani Sri\n"
     ]
    }
   ],
   "source": [
    "##Write a Python program to accept the user's first and last name and then \n",
    "##getting them printed in the the reverse order with a space between first name and last name.\n",
    "First_Name = input(\"Please enter user's first name\")\n",
    "Last_Name = input(\"Please enter user's last name\")\n",
    "print(\"Hello  \"+Last_Name+\" \"+First_Name)\n"
   ]
  },
  {
   "cell_type": "code",
   "execution_count": 8,
   "metadata": {},
   "outputs": [
    {
     "name": "stdout",
     "output_type": "stream",
     "text": [
      "The Volume Of The Spehere is: 904.3199999999999\n"
     ]
    }
   ],
   "source": [
    "## Volume Of The Sphere\n",
    "diameter = 12\n",
    "radius = diameter/2\n",
    "pi = 3.14\n",
    "volume = float(4/3)*pi*(radius**3)\n",
    "print(\"The Volume Of The Spehere is:\",volume)"
   ]
  },
  {
   "cell_type": "code",
   "execution_count": 18,
   "metadata": {},
   "outputs": [
    {
     "name": "stdout",
     "output_type": "stream",
     "text": [
      "Please enter comma seperated numbers: 123\n",
      "['123']\n"
     ]
    }
   ],
   "source": [
    "##Write a program which accepts a sequence of comma-separated numbers from console and generate a list. \n",
    "a = input(\"Please enter comma seperated numbers: \")\n",
    "arr = a.split(\",\")\n",
    "print(arr)\n"
   ]
  },
  {
   "cell_type": "code",
   "execution_count": 48,
   "metadata": {},
   "outputs": [
    {
     "name": "stdout",
     "output_type": "stream",
     "text": [
      "\n",
      "* \n",
      "* * \n",
      "* * * \n",
      "* * * * \n",
      "* * * * * \n",
      "* * * * \n",
      "* * * \n",
      "* * \n",
      "* \n"
     ]
    }
   ],
   "source": [
    "##Create the below pattern using nested for loop in Python. \n",
    "n = 5\n",
    "for i in range(n):\n",
    "    for j in range(i):\n",
    "        print(\"* \",end = \"\")\n",
    "    print('')\n",
    "    \n",
    "for i in range(n,0,-1):\n",
    "    for j in range(i):\n",
    "        print(\"* \",end = \"\")\n",
    "    print('')"
   ]
  },
  {
   "cell_type": "code",
   "execution_count": 36,
   "metadata": {},
   "outputs": [
    {
     "name": "stdout",
     "output_type": "stream",
     "text": [
      "Please enter the word that you want to reverseAcadGild \n",
      " dliGdacA\n",
      "\n"
     ]
    }
   ],
   "source": [
    "##Write a Python program to reverse a word after accepting the input from the user. \n",
    "\n",
    "Word = input(\"Please enter the word that you want to reverse\")\n",
    "\n",
    "for char in range(len(Word)-1,-1,-1):\n",
    "    print(Word[char],end=\"\")\n",
    "print(\"\\n\")"
   ]
  },
  {
   "cell_type": "code",
   "execution_count": 32,
   "metadata": {},
   "outputs": [
    {
     "name": "stdout",
     "output_type": "stream",
     "text": [
      "WE, THE PEOPLE OF INDIA,\n",
      "\thaving solemnly resolved to constitute India into a SOVEREIGN, ! \n",
      "\t\tSOCIALIST, SECULAR, DEMOCRATIC REPUBLIC  \n",
      "\t\t and to secure to all its citizens \n"
     ]
    }
   ],
   "source": [
    "##Write a Python Program to print the given string in the format specified in the sample output.\n",
    "\n",
    "print(\"WE, THE PEOPLE OF INDIA,\\n\\thaving solemnly resolved to constitute India into a SOVEREIGN, ! \\n\\t\\tSOCIALIST, SECULAR, DEMOCRATIC REPUBLIC  \\n\\t\\t and to secure to all its citizens \")"
   ]
  },
  {
   "cell_type": "code",
   "execution_count": null,
   "metadata": {},
   "outputs": [],
   "source": []
  }
 ],
 "metadata": {
  "kernelspec": {
   "display_name": "Python 3",
   "language": "python",
   "name": "python3"
  },
  "language_info": {
   "codemirror_mode": {
    "name": "ipython",
    "version": 3
   },
   "file_extension": ".py",
   "mimetype": "text/x-python",
   "name": "python",
   "nbconvert_exporter": "python",
   "pygments_lexer": "ipython3",
   "version": "3.7.3"
  }
 },
 "nbformat": 4,
 "nbformat_minor": 2
}
